{
  "metadata": {
    "language_info": {
      "codemirror_mode": {
        "name": "python",
        "version": 3
      },
      "file_extension": ".py",
      "mimetype": "text/x-python",
      "name": "python",
      "nbconvert_exporter": "python",
      "pygments_lexer": "ipython3",
      "version": "3.8"
    },
    "kernelspec": {
      "name": "python",
      "display_name": "Python (Pyodide)",
      "language": "python"
    }
  },
  "nbformat_minor": 4,
  "nbformat": 4,
  "cells": [
    {
      "cell_type": "markdown",
      "source": "# Assignment",
      "metadata": {}
    },
    {
      "cell_type": "markdown",
      "source": "# Introduction Of Datascience \nData science is a multidisciplinary field that uses algorithms, statistics, and domain knowledge to extract insights and make data-driven decisions, enabling better understanding and prediction of complex phenomena.",
      "metadata": {}
    },
    {
      "cell_type": "markdown",
      "source": "# Common programming languages used in data science \n\nPython\nR\nSQL (Structured Query Language)\nJava\nScala\nJulia\nSAS\nMATLAB\nRuby\nC/C++",
      "metadata": {}
    },
    {
      "cell_type": "markdown",
      "source": "# Data Science libraries in Python\n\nNumPy\npandas\nmatplotlib\nSeaborn\nscikit-learn\nTensorFlow\nPyTorch\nStatsModels",
      "metadata": {}
    },
    {
      "cell_type": "markdown",
      "source": "# Data Science Language \nPython\n\nA versatile programming language with rich libraries like NumPy, pandas, and scikit-learn for data manipulation, analysis, and machine learning.\nR\n\nA programming language and environment designed for statistical computing and data analysis, with extensive packages and visualization capabilities.\nJupyter\n\nAn open-source web application that allows you to create and share documents that contain live code, equations, visualizations, and narrative text, ideal for interactive data exploration.\nTableau\n\nA data visualization and business intelligence tool that enables users to create interactive and shareable dashboards to gain insights from data.\nHadoop\n\nA distributed storage and processing framework for big data, commonly used for handling and analyzing large datasets in data science projects.",
      "metadata": {}
    },
    {
      "cell_type": "markdown",
      "source": "# Arithmetic expressions in Python are used to perform mathematical calculations.\n\nAddition (+):\nresult = 5 + 3  # Adds 5 and 3, result is 8\n\nSubtraction (-):\nresult = 10 - 4  # Subtracts 4 from 10, result is 6\n\nMultiplication (*):\nresult = 6 * 7  # Multiplies 6 and 7, result is 42\n\nDivision (/):\nresult = 15 / 3  # Divides 15 by 3, result is 5.0 (a float)\n\nInteger Division (//):\nresult = 15 // 4  # Integer division of 15 by 4, result is 3\n\nExponentiation ():**\nresult = 2 ** 3  # Raises 2 to the power of 3, result is 8\n\nModulo (%):\nresult = 10 % 3  # Calculates the remainder when 10 is divided by 3, result is 1\n",
      "metadata": {}
    },
    {
      "cell_type": "markdown",
      "source": "# Multiply and Add",
      "metadata": {}
    },
    {
      "cell_type": "code",
      "source": "a=2\nb=7\nc=a*b\nd=a+b\nprint(\"Multiplication is : \",c)\nprint(\"Addition is : \",d)",
      "metadata": {
        "trusted": true
      },
      "execution_count": 8,
      "outputs": [
        {
          "name": "stdout",
          "text": "Multiplication is :  14\nAddition is :  9\n",
          "output_type": "stream"
        }
      ]
    },
    {
      "cell_type": "markdown",
      "source": "# Minutes to Hours",
      "metadata": {}
    },
    {
      "cell_type": "code",
      "source": "minutes = 120  # Replace this with your desired number of minutes\nhours = minutes / 60\nprint(\"Equivalent hours:\", hours)",
      "metadata": {
        "trusted": true
      },
      "execution_count": 2,
      "outputs": [
        {
          "name": "stdout",
          "text": "Equivalent hours: 2.0\n",
          "output_type": "stream"
        }
      ]
    },
    {
      "cell_type": "markdown",
      "source": "# Objective\n\nThe objective of this exercise sequence is to practice creating markdown and code cells in a Jupyter Notebook. It includes structuring the notebook with a title and an introduction, listing data science languages and libraries, creating a table of data science tools, and demonstrating arithmetic expressions and a conversion calculation. These exercises help you become proficient in documenting and executing tasks within Jupyter Notebook for data science projects.",
      "metadata": {}
    },
    {
      "cell_type": "markdown",
      "source": "# Author \nSehajpreet Kaur",
      "metadata": {}
    },
    {
      "cell_type": "code",
      "source": "",
      "metadata": {},
      "execution_count": null,
      "outputs": []
    }
  ]
}